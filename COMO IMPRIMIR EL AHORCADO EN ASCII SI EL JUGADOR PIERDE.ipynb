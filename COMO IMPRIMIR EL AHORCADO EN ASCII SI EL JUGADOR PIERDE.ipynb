{
 "cells": [
  {
   "cell_type": "code",
   "execution_count": 24,
   "id": "6f4dca26",
   "metadata": {},
   "outputs": [
    {
     "name": "stdout",
     "output_type": "stream",
     "text": [
      "\n",
      "      -----\n",
      "      |   |\n",
      "      O   |\n",
      "    /( )\\ |\n",
      "     / \\  |\n",
      "          |\n",
      "    =========\n"
     ]
    }
   ],
   "source": [
    "#0 vidas\n",
    "print(\"\"\"\n",
    "      -----\n",
    "      |   |\n",
    "      O   |\n",
    "    /( )\\\\ |\n",
    "     / \\\\  |\n",
    "          |\n",
    "    =========\"\"\")"
   ]
  },
  {
   "cell_type": "code",
   "execution_count": 27,
   "id": "ba78b565",
   "metadata": {},
   "outputs": [
    {
     "name": "stdout",
     "output_type": "stream",
     "text": [
      "\n",
      "      -----\n",
      "      |   |\n",
      "      O   |\n",
      "    /( )\\ |\n",
      "     /    |\n",
      "          |\n",
      "    =========\n"
     ]
    }
   ],
   "source": [
    "#1 vida\n",
    "print(\"\"\"\n",
    "      -----\n",
    "      |   |\n",
    "      O   |\n",
    "    /( )\\\\ |\n",
    "     /    |\n",
    "          |\n",
    "    =========\"\"\")"
   ]
  },
  {
   "cell_type": "code",
   "execution_count": 28,
   "id": "e927ba91",
   "metadata": {},
   "outputs": [
    {
     "name": "stdout",
     "output_type": "stream",
     "text": [
      "\n",
      "      -----\n",
      "      |   |\n",
      "      O   |\n",
      "    /( )\\ |\n",
      "          |\n",
      "          |\n",
      "    =========\n"
     ]
    }
   ],
   "source": [
    "#2 vidas\n",
    "print(\"\"\"\n",
    "      -----\n",
    "      |   |\n",
    "      O   |\n",
    "    /( )\\\\ |\n",
    "          |\n",
    "          |\n",
    "    =========\"\"\")"
   ]
  },
  {
   "cell_type": "code",
   "execution_count": 30,
   "id": "f55ad673",
   "metadata": {},
   "outputs": [
    {
     "name": "stdout",
     "output_type": "stream",
     "text": [
      "\n",
      "      -----\n",
      "      |   |\n",
      "      O   |\n",
      "    /( )  |\n",
      "          |\n",
      "          |\n",
      "    =========\n"
     ]
    }
   ],
   "source": [
    "#3 vidas\n",
    "print(\"\"\"\n",
    "      -----\n",
    "      |   |\n",
    "      O   |\n",
    "    /( )  |\n",
    "          |\n",
    "          |\n",
    "    =========\"\"\")"
   ]
  },
  {
   "cell_type": "code",
   "execution_count": 31,
   "id": "1079fada",
   "metadata": {},
   "outputs": [
    {
     "name": "stdout",
     "output_type": "stream",
     "text": [
      "\n",
      "      -----\n",
      "      |   |\n",
      "      O   |\n",
      "     ( )  |\n",
      "          |\n",
      "          |\n",
      "    =========\n"
     ]
    }
   ],
   "source": [
    "#4 vidas\n",
    "print(\"\"\"\n",
    "      -----\n",
    "      |   |\n",
    "      O   |\n",
    "     ( )  |\n",
    "          |\n",
    "          |\n",
    "    =========\"\"\")"
   ]
  },
  {
   "cell_type": "code",
   "execution_count": 32,
   "id": "296b5a4b",
   "metadata": {},
   "outputs": [
    {
     "name": "stdout",
     "output_type": "stream",
     "text": [
      "\n",
      "      -----\n",
      "      |   |\n",
      "      O   |\n",
      "          |\n",
      "          |\n",
      "          |\n",
      "    =========\n"
     ]
    }
   ],
   "source": [
    "#5 vidas\n",
    "print(\"\"\"\n",
    "      -----\n",
    "      |   |\n",
    "      O   |\n",
    "          |\n",
    "          |\n",
    "          |\n",
    "    =========\"\"\")"
   ]
  },
  {
   "cell_type": "code",
   "execution_count": null,
   "id": "a247f564",
   "metadata": {},
   "outputs": [
    {
     "name": "stdout",
     "output_type": "stream",
     "text": [
      "\n",
      "      -----\n",
      "      |   |\n",
      "          |\n",
      "          |   \n",
      "          |\n",
      "          |\n",
      "          |\n",
      "    =========\n"
     ]
    }
   ],
   "source": [
    "#6 vidas\n",
    "print(\"\"\"\n",
    "      -----\n",
    "      |   |\n",
    "          |\n",
    "          |   \n",
    "          |\n",
    "          |\n",
    "          |\n",
    "    =========\"\"\")"
   ]
  },
  {
   "cell_type": "code",
   "execution_count": null,
   "id": "1ad8b33d",
   "metadata": {},
   "outputs": [],
   "source": []
  },
  {
   "cell_type": "code",
   "execution_count": null,
   "id": "2757cc25",
   "metadata": {},
   "outputs": [],
   "source": []
  }
 ],
 "metadata": {
  "kernelspec": {
   "display_name": "base",
   "language": "python",
   "name": "python3"
  },
  "language_info": {
   "codemirror_mode": {
    "name": "ipython",
    "version": 3
   },
   "file_extension": ".py",
   "mimetype": "text/x-python",
   "name": "python",
   "nbconvert_exporter": "python",
   "pygments_lexer": "ipython3",
   "version": "3.12.7"
  }
 },
 "nbformat": 4,
 "nbformat_minor": 5
}
